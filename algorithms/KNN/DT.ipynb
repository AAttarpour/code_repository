{
 "cells": [
  {
   "cell_type": "markdown",
   "metadata": {},
   "source": [
    "### Decision Tree\n",
    "\n",
    "A **Decision Tree** is a supervised learning algorithm used for both **classification** and **regression** tasks. It splits the data into subsets based on feature values, creating a tree structure with the following:\n",
    "\n",
    "- **Root Node**: The starting point where the first split is made.\n",
    "- **Internal Nodes**: Points where further splits occur based on feature conditions.\n",
    "- **Leaf Nodes**: Endpoints representing a class label (classification) or a predicted value (regression).\n",
    "\n",
    "---\n",
    "\n",
    "### Math Behind Decision Trees:\n",
    "\n",
    "#### 1. Splitting Criterion:\n",
    "The goal is to find the best split that:\n",
    "\n",
    "- **Maximizes separation of classes** (for classification).\n",
    "- **Minimizes prediction error** (for regression).\n",
    "\n",
    "---\n",
    "\n",
    "#### 2. Gini Impurity (Classification):\n",
    "Gini impurity measures how mixed the classes are in a subset. A pure node has a Gini impurity of 0:\n",
    "\n",
    "$$\n",
    "\\text{Gini Impurity} = 1 - \\sum_{i=1}^C p_i^2\n",
    "$$\n",
    "\n",
    "Where:\n",
    "- \\(C\\): Total number of classes.\n",
    "- \\(p_i\\): Proportion of samples belonging to class \\(i\\) in the subset.\n",
    "\n",
    "---\n",
    "\n",
    "#### 3. Entropy (Classification):\n",
    "Entropy measures the randomness in the target variable:\n",
    "\n",
    "$$\n",
    "\\text{Entropy} = - \\sum_{i=1}^C p_i \\log_2(p_i)\n",
    "$$\n",
    "\n",
    "Where:\n",
    "- \\(p_i\\): Proportion of samples belonging to class \\(i\\) in the subset.\n",
    "\n",
    "---\n",
    "\n",
    "#### 4. Information Gain (Classification):\n",
    "Information Gain evaluates the reduction in entropy after a split:\n",
    "\n",
    "$$\n",
    "\\text{Information Gain} = \\text{Entropy(Parent)} - \\sum_{\\text{Children}} \\frac{N_k}{N} \\cdot \\text{Entropy(Child)}\n",
    "$$\n",
    "\n",
    "Where:\n",
    "- \\(N_k\\): Number of samples in child \\(k\\).\n",
    "- \\(N\\): Total number of samples.\n",
    "\n",
    "---\n",
    "\n",
    "#### 5. Mean Squared Error (Regression):\n",
    "For regression tasks, the quality of a split is measured by reducing variance. The Mean Squared Error is:\n",
    "\n",
    "$$\n",
    "\\text{MSE} = \\frac{1}{N} \\sum_{i=1}^N (y_i - \\bar{y})^2\n",
    "$$\n",
    "\n",
    "Where:\n",
    "- \\(y_i\\): True value of the target for sample \\(i\\).\n",
    "- \\(\\bar{y}\\): Mean of the target values in the subset.\n",
    "- \\(N\\): Number of samples.\n",
    "\n",
    "---\n",
    "\n",
    "#### 6. Stopping Criteria:\n",
    "The tree grows until:\n",
    "1. A **maximum depth** is reached.\n",
    "2. The **minimum number of samples per node** is met.\n",
    "3. The impurity/error is below a **threshold**.\n",
    "\n",
    "---\n",
    "\n",
    "#### 7. Prediction:\n",
    "- **Classification**: Assigns the majority class at the leaf node.\n",
    "- **Regression**: Predicts the mean target value at the leaf node.\n",
    "\n",
    "---\n",
    "\n",
    "### Example Workflow (Classification):\n",
    "1. Start with all data at the root node.\n",
    "2. For each feature, calculate the splitting metric (e.g., Gini or Entropy) for all possible splits.\n",
    "3. Choose the split with the **best metric value** (lowest Gini or highest Information Gain).\n",
    "4. Repeat this process recursively for child nodes.\n",
    "5. Stop splitting when stopping criteria are met.\n",
    "\n",
    "---\n",
    "\n",
    "### Key Takeaway:\n",
    "A decision tree creates a flowchart-like structure by splitting data at each node to optimize a splitting criterion, ending at pure or nearly pure leaf nodes.\n"
   ]
  },
  {
   "cell_type": "markdown",
   "metadata": {},
   "source": [
    "---\n",
    "Python Practice\n",
    "---\n",
    "We will use the scikit-learn’s decision tree classifier to classify patients into liver patient (liver disease) or not (no disease). \n",
    "\n",
    "We will use a dataset of 416 liver patient records and 167 non liver patient records collected from North East of Andhra Pradesh, India. 10 variables for each patient are recorded, and the true label is in column Dataset. The data is obtained through https://www.kaggle.com/datasets/uciml/indian-liver-patient-records. We will use the data stored in HW1_data.csv on the course website for this assignment.\n",
    "You will build a KNN classifier to classify patients into liver patient (liver disease) or not (no disease).\n"
   ]
  },
  {
   "cell_type": "code",
   "execution_count": 1,
   "metadata": {},
   "outputs": [],
   "source": [
    "import pandas as pd\n",
    "from sklearn.model_selection import train_test_split\n",
    "from sklearn import tree\n",
    "from sklearn.preprocessing import StandardScaler,  LabelEncoder\n",
    "import numpy as np\n",
    "import matplotlib.pyplot as plt\n",
    "from graphviz import Source\n",
    "# setting random seed for reproducibility\n",
    "np.random.seed(1210)"
   ]
  },
  {
   "cell_type": "code",
   "execution_count": 2,
   "metadata": {},
   "outputs": [],
   "source": [
    "# path to data\n",
    "data_path = \"/Users/ahmadreza/Documents/Files/PhD Files/code/code_repository/algorithms/KNN/hw1_data.csv\""
   ]
  },
  {
   "cell_type": "code",
   "execution_count": 3,
   "metadata": {},
   "outputs": [],
   "source": [
    "# Function for loading the data\n",
    "def load_data(data_path: str) -> tuple[list, list, list]:\n",
    "    # Load the dataset from the given CSV file\n",
    "    df = pd.read_csv(data_path)\n",
    "    print(df)\n",
    "    \n",
    "    # Initialize the encoder for categorical 'Gender' feature\n",
    "    label_encoder = LabelEncoder()\n",
    "    # Encode the 'Gender' column (Male: 0, Female: 1)\n",
    "    df['Gender'] = label_encoder.fit_transform(df['Gender'])\n",
    "    \n",
    "    # Extract target labels from 'Dataset' column\n",
    "    y = df[\"Dataset\"].to_numpy()\n",
    "    \n",
    "    # Drop the target column from the feature set\n",
    "    df = df.drop(columns=[\"Dataset\"])\n",
    "    \n",
    "    # Convert features to numpy array\n",
    "    X = df.to_numpy()\n",
    "    \n",
    "    # Handle NaN values by replacing them with 0\n",
    "    X = np.nan_to_num(X)\n",
    "    \n",
    "    # Split the dataset into training + validation and testing sets (80% train + validation, 20% test)\n",
    "    train_val_X, test_X, train_val_y, test_y = train_test_split(X, y, test_size=0.20)\n",
    "    \n",
    "    # Split the training + validation set into train and validation sets (90% train, 10% validation)\n",
    "    train_X, val_X, train_y, val_y = train_test_split(train_val_X, train_val_y, test_size=(0.10/0.80))\n",
    "    \n",
    "    # Return the train, validation, and test sets as tuples\n",
    "    return [train_X, train_y], [val_X, val_y], [test_X, test_y]\n"
   ]
  },
  {
   "cell_type": "code",
   "execution_count": 6,
   "metadata": {},
   "outputs": [
    {
     "name": "stdout",
     "output_type": "stream",
     "text": [
      "     Age  Gender  Total_Bilirubin  Direct_Bilirubin  Alkaline_Phosphotase  \\\n",
      "0     65  Female              0.7               0.1                   187   \n",
      "1     62    Male             10.9               5.5                   699   \n",
      "2     62    Male              7.3               4.1                   490   \n",
      "3     58    Male              1.0               0.4                   182   \n",
      "4     72    Male              3.9               2.0                   195   \n",
      "..   ...     ...              ...               ...                   ...   \n",
      "578   60    Male              0.5               0.1                   500   \n",
      "579   40    Male              0.6               0.1                    98   \n",
      "580   52    Male              0.8               0.2                   245   \n",
      "581   31    Male              1.3               0.5                   184   \n",
      "582   38    Male              1.0               0.3                   216   \n",
      "\n",
      "     Alamine_Aminotransferase  Aspartate_Aminotransferase  Total_Protiens  \\\n",
      "0                          16                          18             6.8   \n",
      "1                          64                         100             7.5   \n",
      "2                          60                          68             7.0   \n",
      "3                          14                          20             6.8   \n",
      "4                          27                          59             7.3   \n",
      "..                        ...                         ...             ...   \n",
      "578                        20                          34             5.9   \n",
      "579                        35                          31             6.0   \n",
      "580                        48                          49             6.4   \n",
      "581                        29                          32             6.8   \n",
      "582                        21                          24             7.3   \n",
      "\n",
      "     Albumin  Albumin_and_Globulin_Ratio  Dataset  \n",
      "0        3.3                        0.90        1  \n",
      "1        3.2                        0.74        1  \n",
      "2        3.3                        0.89        1  \n",
      "3        3.4                        1.00        1  \n",
      "4        2.4                        0.40        1  \n",
      "..       ...                         ...      ...  \n",
      "578      1.6                        0.37        2  \n",
      "579      3.2                        1.10        1  \n",
      "580      3.2                        1.00        1  \n",
      "581      3.4                        1.00        1  \n",
      "582      4.4                        1.50        2  \n",
      "\n",
      "[583 rows x 11 columns]\n"
     ]
    }
   ],
   "source": [
    "# Load data\n",
    "train, val, test = load_data(data_path)\n"
   ]
  },
  {
   "cell_type": "code",
   "execution_count": 29,
   "metadata": {},
   "outputs": [],
   "source": [
    "# Function to select the best k-NN model\n",
    "def train_decision_tree(\n",
    "        train: tuple[list, list],  # Training data and labels\n",
    "        val: tuple[list, list],  # Validation data and labels\n",
    "        test: tuple[list, list],  # Test data and labels\n",
    "        standardization: bool = True,  # Whether to standardize data (default: True)\n",
    "        criterion: str = 'gini',\n",
    "        splitter:str = 'best',\n",
    "        min_samples_leaf: int = 1,\n",
    "        max_depth: int = None\n",
    ") -> tree.DecisionTreeClassifier:\n",
    "    \n",
    "    # Extract data and labels for training, validation, and testing\n",
    "    train_X, train_y = train[0], train[1]\n",
    "    val_X, val_y = val[0], val[1]\n",
    "    test_X, test_y = test[0], test[1]\n",
    "\n",
    "    # If standardization is enabled, scale the features to have zero mean and unit variance\n",
    "    if standardization:\n",
    "        scaler = StandardScaler().fit(train_X)  # Fit scaler on training data\n",
    "        train_X = scaler.transform(train_X)  # Apply transformation to training data\n",
    "        val_X = scaler.transform(val_X)  # Apply transformation to validation data\n",
    "        test_X = scaler.transform(test_X)  # Apply transformation to test data\n",
    "\n",
    "    # train the DT model\n",
    "    dt = tree.DecisionTreeClassifier(criterion=criterion,\n",
    "                                     splitter=splitter, \n",
    "                                     min_samples_leaf=min_samples_leaf,\n",
    "                                     max_depth=max_depth)  # Initialize DT classifier\n",
    "                \n",
    "    dt.fit(train_X, train_y)  # Train the k-NN model on the training data\n",
    "\n",
    "    train_acc = dt.score(train_X, train_y)  # Append training accuracy\n",
    "    val_acc = dt.score(val_X, val_y)  # Append validation accuracy\n",
    "    test_acc = dt.score(test_X, test_y)  # Append validation accuracy\n",
    "\n",
    "    # Convert accuracies to numpy arrays for plotting\n",
    "    train_acc = np.array(train_acc)\n",
    "    val_acc = np.array(val_acc)\n",
    "    test_acc = np.array(test_acc)\n",
    "\n",
    "    # Print the best model's k, training accuracy, validation accuracy, and test accuracy\n",
    "    print(f\"> train_acc = {train_acc}, val_acc = {val_acc}, test_acc = {test_acc}\")\n",
    "\n",
    "    return dt"
   ]
  },
  {
   "cell_type": "code",
   "execution_count": 30,
   "metadata": {},
   "outputs": [
    {
     "name": "stdout",
     "output_type": "stream",
     "text": [
      "> train_acc = 1.0, val_acc = 0.6440677966101694, test_acc = 0.5897435897435898\n"
     ]
    }
   ],
   "source": [
    "model = train_decision_tree(\n",
    "    train,\n",
    "    val,\n",
    "    test,\n",
    "    True,\n",
    "    'gini',\n",
    "    'best',\n",
    "    1,\n",
    ")"
   ]
  },
  {
   "cell_type": "markdown",
   "metadata": {},
   "source": [
    "The model overfitted (training accuracy is very close to 1 while test accuracy is not) let's increase the min_sample_leaf and limit the max_depth."
   ]
  },
  {
   "cell_type": "code",
   "execution_count": 31,
   "metadata": {},
   "outputs": [
    {
     "name": "stdout",
     "output_type": "stream",
     "text": [
      "> train_acc = 0.7616707616707616, val_acc = 0.7966101694915254, test_acc = 0.717948717948718\n"
     ]
    }
   ],
   "source": [
    "model = train_decision_tree(\n",
    "    train,\n",
    "    val,\n",
    "    test,\n",
    "    True,\n",
    "    'gini',\n",
    "    'best',\n",
    "    5,\n",
    "    5\n",
    ")"
   ]
  },
  {
   "cell_type": "code",
   "execution_count": 32,
   "metadata": {},
   "outputs": [
    {
     "data": {
      "text/plain": [
       "[Text(0.5291666666666667, 0.9166666666666666, 'f3f4 <= -0.259\\ngini = 0.418\\nsamples = 407\\nvalue = [286, 121]'),\n",
       " Text(0.3416666666666667, 0.75, 'f7 <= -0.075\\ngini = 0.483\\nsamples = 257\\nvalue = [152, 105]'),\n",
       " Text(0.4354166666666667, 0.8333333333333333, 'True  '),\n",
       " Text(0.21666666666666667, 0.5833333333333334, 'f6 <= -0.346\\ngini = 0.496\\nsamples = 225\\nvalue = [123.0, 102.0]'),\n",
       " Text(0.13333333333333333, 0.4166666666666667, 'f1 <= -1.011\\ngini = 0.5\\nsamples = 159\\nvalue = [78, 81]'),\n",
       " Text(0.06666666666666667, 0.25, 'f9 <= 1.09\\ngini = 0.408\\nsamples = 28\\nvalue = [8, 20]'),\n",
       " Text(0.03333333333333333, 0.08333333333333333, 'gini = 0.287\\nsamples = 23\\nvalue = [4, 19]'),\n",
       " Text(0.1, 0.08333333333333333, 'gini = 0.32\\nsamples = 5\\nvalue = [4, 1]'),\n",
       " Text(0.2, 0.25, 'f3f4 <= -0.323\\ngini = 0.498\\nsamples = 131\\nvalue = [70, 61]'),\n",
       " Text(0.16666666666666666, 0.08333333333333333, 'gini = 0.493\\nsamples = 122\\nvalue = [68, 54]'),\n",
       " Text(0.23333333333333334, 0.08333333333333333, 'gini = 0.346\\nsamples = 9\\nvalue = [2, 7]'),\n",
       " Text(0.3, 0.4166666666666667, 'f10 <= -1.024\\ngini = 0.434\\nsamples = 66\\nvalue = [45, 21]'),\n",
       " Text(0.26666666666666666, 0.25, 'gini = 0.444\\nsamples = 9\\nvalue = [3, 6]'),\n",
       " Text(0.3333333333333333, 0.25, 'f11 <= -0.641\\ngini = 0.388\\nsamples = 57\\nvalue = [42, 15]'),\n",
       " Text(0.3, 0.08333333333333333, 'gini = 0.0\\nsamples = 11\\nvalue = [11, 0]'),\n",
       " Text(0.36666666666666664, 0.08333333333333333, 'gini = 0.44\\nsamples = 46\\nvalue = [31, 15]'),\n",
       " Text(0.4666666666666667, 0.5833333333333334, 'f10 <= 1.022\\ngini = 0.17\\nsamples = 32\\nvalue = [29, 3]'),\n",
       " Text(0.43333333333333335, 0.4166666666666667, 'f1 <= -1.505\\ngini = 0.071\\nsamples = 27\\nvalue = [26, 1]'),\n",
       " Text(0.4, 0.25, 'gini = 0.32\\nsamples = 5\\nvalue = [4, 1]'),\n",
       " Text(0.4666666666666667, 0.25, 'gini = 0.0\\nsamples = 22\\nvalue = [22, 0]'),\n",
       " Text(0.5, 0.4166666666666667, 'gini = 0.48\\nsamples = 5\\nvalue = [3, 2]'),\n",
       " Text(0.7166666666666667, 0.75, 'f6 <= -0.443\\ngini = 0.191\\nsamples = 150\\nvalue = [134, 16]'),\n",
       " Text(0.6229166666666667, 0.8333333333333333, '  False'),\n",
       " Text(0.6, 0.5833333333333334, 'f9 <= -1.121\\ngini = 0.423\\nsamples = 23\\nvalue = [16, 7]'),\n",
       " Text(0.5666666666666667, 0.4166666666666667, 'gini = 0.48\\nsamples = 5\\nvalue = [2, 3]'),\n",
       " Text(0.6333333333333333, 0.4166666666666667, 'f11 <= 0.009\\ngini = 0.346\\nsamples = 18\\nvalue = [14, 4]'),\n",
       " Text(0.6, 0.25, 'gini = 0.0\\nsamples = 8\\nvalue = [8, 0]'),\n",
       " Text(0.6666666666666666, 0.25, 'f1 <= -0.64\\ngini = 0.48\\nsamples = 10\\nvalue = [6, 4]'),\n",
       " Text(0.6333333333333333, 0.08333333333333333, 'gini = 0.48\\nsamples = 5\\nvalue = [3, 2]'),\n",
       " Text(0.7, 0.08333333333333333, 'gini = 0.48\\nsamples = 5\\nvalue = [3, 2]'),\n",
       " Text(0.8333333333333334, 0.5833333333333334, 'f5 <= -0.298\\ngini = 0.132\\nsamples = 127\\nvalue = [118, 9]'),\n",
       " Text(0.8, 0.4166666666666667, 'gini = 0.48\\nsamples = 5\\nvalue = [3, 2]'),\n",
       " Text(0.8666666666666667, 0.4166666666666667, 'f9 <= -0.292\\ngini = 0.108\\nsamples = 122\\nvalue = [115, 7]'),\n",
       " Text(0.8, 0.25, 'f10 <= -1.086\\ngini = 0.208\\nsamples = 51\\nvalue = [45, 6]'),\n",
       " Text(0.7666666666666667, 0.08333333333333333, 'gini = 0.0\\nsamples = 27\\nvalue = [27, 0]'),\n",
       " Text(0.8333333333333334, 0.08333333333333333, 'gini = 0.375\\nsamples = 24\\nvalue = [18, 6]'),\n",
       " Text(0.9333333333333333, 0.25, 'f10 <= 1.146\\ngini = 0.028\\nsamples = 71\\nvalue = [70, 1]'),\n",
       " Text(0.9, 0.08333333333333333, 'gini = 0.0\\nsamples = 64\\nvalue = [64, 0]'),\n",
       " Text(0.9666666666666667, 0.08333333333333333, 'gini = 0.245\\nsamples = 7\\nvalue = [6, 1]')]"
      ]
     },
     "execution_count": 32,
     "metadata": {},
     "output_type": "execute_result"
    },
    {
     "data": {
      "image/png": "[encoded data removed]",
      "text/plain": [
       "<Figure size 640x480 with 1 Axes>"
      ]
     },
     "metadata": {},
     "output_type": "display_data"
    }
   ],
   "source": [
    "tree.plot_tree(model, feature_names=['f1', 'f2', 'f3' 'f4', 'f5', 'f6', 'f7', 'f8', 'f9', 'f10', 'f11'])"
   ]
  },
  {
   "cell_type": "code",
   "execution_count": null,
   "metadata": {},
   "outputs": [],
   "source": []
  }
 ],
 "metadata": {
  "kernelspec": {
   "display_name": "aa_ml",
   "language": "python",
   "name": "python3"
  },
  "language_info": {
   "codemirror_mode": {
    "name": "ipython",
    "version": 3
   },
   "file_extension": ".py",
   "mimetype": "text/x-python",
   "name": "python",
   "nbconvert_exporter": "python",
   "pygments_lexer": "ipython3",
   "version": "3.12.8"
  }
 },
 "nbformat": 4,
 "nbformat_minor": 2
}
